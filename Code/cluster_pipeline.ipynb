{
 "cells": [
  {
   "cell_type": "code",
   "execution_count": 83,
   "metadata": {},
   "outputs": [],
   "source": [
    "import numpy as np\n",
    "import os\n",
    "import pandas as pd\n",
    "import shutil\n",
    "import nipype.interfaces.fsl as fsl\n",
    "import matplotlib.pyplot as plt\n",
    "from pathlib import Path\n",
    "import nibabel as nib\n",
    "\n"
   ]
  },
  {
   "cell_type": "markdown",
   "metadata": {},
   "source": [
    "Apply BET mask to the T1 brain registered to FLAIR space for consistency."
   ]
  },
  {
   "cell_type": "code",
   "execution_count": 28,
   "metadata": {},
   "outputs": [
    {
     "ename": "ValueError",
     "evalue": "ApplyMask requires a value for input 'in_file'. For a list of required inputs, see ApplyMask.help()",
     "output_type": "error",
     "traceback": [
      "\u001b[0;31m---------------------------------------------------------------------------\u001b[0m",
      "\u001b[0;31mValueError\u001b[0m                                Traceback (most recent call last)",
      "\u001b[1;32m/home/ela/Documents/MRes_Project/Code/cluster_pipeline.ipynb Cell 3\u001b[0m line \u001b[0;36m4\n\u001b[1;32m      <a href='vscode-notebook-cell:/home/ela/Documents/MRes_Project/Code/cluster_pipeline.ipynb#W2sZmlsZQ%3D%3D?line=1'>2</a>\u001b[0m apply_mask_BET\u001b[39m.\u001b[39minputs\u001b[39m.\u001b[39mmask_file \u001b[39m=\u001b[39m \u001b[39m'\u001b[39m\u001b[39m/home/ela/Documents/B-RAPIDD/B-RAP_0100/3D-FLAIR/brain_nifti/masks/B-RAP_0100_05_D1.nii\u001b[39m\u001b[39m'\u001b[39m\n\u001b[1;32m      <a href='vscode-notebook-cell:/home/ela/Documents/MRes_Project/Code/cluster_pipeline.ipynb#W2sZmlsZQ%3D%3D?line=2'>3</a>\u001b[0m apply_mask_BET\u001b[39m.\u001b[39minputs\u001b[39m.\u001b[39mout_file \u001b[39m=\u001b[39m \u001b[39m'\u001b[39m\u001b[39m/home/ela/Documents/B-RAPIDD/B-RAP_0100/3D-FLAIR/registered_T1/B-RAP_0100_01_E1_BET.nii.gz\u001b[39m\u001b[39m'\u001b[39m\n\u001b[0;32m----> <a href='vscode-notebook-cell:/home/ela/Documents/MRes_Project/Code/cluster_pipeline.ipynb#W2sZmlsZQ%3D%3D?line=3'>4</a>\u001b[0m T1_bet_res \u001b[39m=\u001b[39m apply_mask_BET\u001b[39m.\u001b[39;49mrun()\n\u001b[1;32m      <a href='vscode-notebook-cell:/home/ela/Documents/MRes_Project/Code/cluster_pipeline.ipynb#W2sZmlsZQ%3D%3D?line=4'>5</a>\u001b[0m \u001b[39mprint\u001b[39m(\u001b[39m'\u001b[39m\u001b[39mExtracted T1 brain\u001b[39m\u001b[39m'\u001b[39m)\n",
      "File \u001b[0;32m~/miniconda3/envs/MRI/lib/python3.11/site-packages/nipype/interfaces/base/core.py:388\u001b[0m, in \u001b[0;36mBaseInterface.run\u001b[0;34m(self, cwd, ignore_exception, **inputs)\u001b[0m\n\u001b[1;32m    386\u001b[0m \u001b[39mwith\u001b[39;00m indirectory(cwd \u001b[39mor\u001b[39;00m os\u001b[39m.\u001b[39mgetcwd()):\n\u001b[1;32m    387\u001b[0m     \u001b[39mself\u001b[39m\u001b[39m.\u001b[39minputs\u001b[39m.\u001b[39mtrait_set(\u001b[39m*\u001b[39m\u001b[39m*\u001b[39minputs)\n\u001b[0;32m--> 388\u001b[0m \u001b[39mself\u001b[39;49m\u001b[39m.\u001b[39;49m_check_mandatory_inputs()\n\u001b[1;32m    389\u001b[0m \u001b[39mself\u001b[39m\u001b[39m.\u001b[39m_check_version_requirements(\u001b[39mself\u001b[39m\u001b[39m.\u001b[39minputs)\n\u001b[1;32m    391\u001b[0m \u001b[39mwith\u001b[39;00m rtc(\u001b[39mself\u001b[39m, cwd\u001b[39m=\u001b[39mcwd, redirect_x\u001b[39m=\u001b[39m\u001b[39mself\u001b[39m\u001b[39m.\u001b[39m_redirect_x) \u001b[39mas\u001b[39;00m runtime:\n\u001b[1;32m    392\u001b[0m     \u001b[39m# Grab inputs now, as they should not change during execution\u001b[39;00m\n",
      "File \u001b[0;32m~/miniconda3/envs/MRI/lib/python3.11/site-packages/nipype/interfaces/base/core.py:275\u001b[0m, in \u001b[0;36mBaseInterface._check_mandatory_inputs\u001b[0;34m(self)\u001b[0m\n\u001b[1;32m    269\u001b[0m \u001b[39mif\u001b[39;00m \u001b[39mnot\u001b[39;00m isdefined(value) \u001b[39mand\u001b[39;00m spec\u001b[39m.\u001b[39mxor \u001b[39mis\u001b[39;00m \u001b[39mNone\u001b[39;00m:\n\u001b[1;32m    270\u001b[0m     msg \u001b[39m=\u001b[39m (\n\u001b[1;32m    271\u001b[0m         \u001b[39m\"\u001b[39m\u001b[39m%s\u001b[39;00m\u001b[39m requires a value for input \u001b[39m\u001b[39m'\u001b[39m\u001b[39m%s\u001b[39;00m\u001b[39m'\u001b[39m\u001b[39m. \u001b[39m\u001b[39m\"\u001b[39m\n\u001b[1;32m    272\u001b[0m         \u001b[39m\"\u001b[39m\u001b[39mFor a list of required inputs, see \u001b[39m\u001b[39m%s\u001b[39;00m\u001b[39m.help()\u001b[39m\u001b[39m\"\u001b[39m\n\u001b[1;32m    273\u001b[0m         \u001b[39m%\u001b[39m (\u001b[39mself\u001b[39m\u001b[39m.\u001b[39m\u001b[39m__class__\u001b[39m\u001b[39m.\u001b[39m\u001b[39m__name__\u001b[39m, name, \u001b[39mself\u001b[39m\u001b[39m.\u001b[39m\u001b[39m__class__\u001b[39m\u001b[39m.\u001b[39m\u001b[39m__name__\u001b[39m)\n\u001b[1;32m    274\u001b[0m     )\n\u001b[0;32m--> 275\u001b[0m     \u001b[39mraise\u001b[39;00m \u001b[39mValueError\u001b[39;00m(msg)\n\u001b[1;32m    276\u001b[0m \u001b[39mif\u001b[39;00m isdefined(value):\n\u001b[1;32m    277\u001b[0m     \u001b[39mself\u001b[39m\u001b[39m.\u001b[39m_check_requires(spec, name, value)\n",
      "\u001b[0;31mValueError\u001b[0m: ApplyMask requires a value for input 'in_file'. For a list of required inputs, see ApplyMask.help()"
     ]
    }
   ],
   "source": [
    "apply_mask_BET = fsl.ApplyMask()\n",
    "apply_mask_BET.inputs.mask_file = '/home/ela/Documents/B-RAPIDD/B-RAP_0100/3D-FLAIR/brain_nifti/masks/B-RAP_0100_05_D1.nii'\n",
    "apply_mask_BET.inputs.out_file = '/home/ela/Documents/B-RAPIDD/B-RAP_0100/3D-FLAIR/registered_T1/B-RAP_0100_01_E1_BET.nii.gz'\n",
    "T1_bet_res = apply_mask_BET.run()\n",
    "print('Extracted T1 brain')\n"
   ]
  },
  {
   "cell_type": "markdown",
   "metadata": {},
   "source": [
    "After applying FAST, load in the mask for CSF and apply it to the chosen variance map.\n",
    "(B-RAPP_0100 Affine variance)"
   ]
  },
  {
   "cell_type": "code",
   "execution_count": null,
   "metadata": {},
   "outputs": [
    {
     "name": "stdout",
     "output_type": "stream",
     "text": [
      "(176, 232, 256)\n"
     ]
    }
   ],
   "source": [
    "csf_mask = nib.load('/home/ela/Documents/B-RAPIDD/B-RAP_0100/3D-FLAIR/registered_T1/B-RAP_0100_01_E1_CSF_mask.nii.gz').get_fdata()\n",
    "variance_map = nib.load('/home/ela/Documents/B-RAPIDD/B-RAP_0100/3D-FLAIR/variance_maps/affine/intrasubnormalised_all_timepoints.nii.gz').get_fdata()\n",
    "out_file = '/home/ela/Documents/B-RAPIDD/B-RAP_0100/3D-FLAIR/variance_maps/affine/no_csf/intrasubnormalised_all_timepoints_no_csf.nii.gz'\n",
    "\n",
    "\n",
    "# invert the mask to keep non-csf\n",
    "inv_csf_mask = np.logical_not(csf_mask)*1 # * 1 converts to 1 or 0 from a true/false to allow multiplication\n",
    "\n",
    "variance_map_no_csf = np.multiply(variance_map,inv_csf_mask) # element-wise multiplication\n",
    "\n",
    "print(variance_map_no_csf.shape)\n",
    "\n",
    "# save the map\n",
    "var_no_csf_nifti =  nib.Nifti1Image(variance_map_no_csf, affine=np.eye(4))\n",
    "nib.save(var_no_csf_nifti, out_file)"
   ]
  },
  {
   "cell_type": "markdown",
   "metadata": {},
   "source": [
    "After running Z-score calculation on the CSF-free variance map and obtaining the cluster map, we need to analyse the clusters. This is for B-RAPP_0100 Affine Variance."
   ]
  },
  {
   "cell_type": "code",
   "execution_count": null,
   "metadata": {},
   "outputs": [
    {
     "data": {
      "text/html": [
       "<div>\n",
       "<style scoped>\n",
       "    .dataframe tbody tr th:only-of-type {\n",
       "        vertical-align: middle;\n",
       "    }\n",
       "\n",
       "    .dataframe tbody tr th {\n",
       "        vertical-align: top;\n",
       "    }\n",
       "\n",
       "    .dataframe thead th {\n",
       "        text-align: right;\n",
       "    }\n",
       "</style>\n",
       "<table border=\"1\" class=\"dataframe\">\n",
       "  <thead>\n",
       "    <tr style=\"text-align: right;\">\n",
       "      <th></th>\n",
       "      <th>Cluster Index</th>\n",
       "      <th>Voxels</th>\n",
       "      <th>MAX</th>\n",
       "      <th>MAX X (vox)</th>\n",
       "      <th>MAX Y (vox)</th>\n",
       "      <th>MAX Z (vox)</th>\n",
       "      <th>COG X (vox)</th>\n",
       "      <th>COG Y (vox)</th>\n",
       "      <th>COG Z (vox)</th>\n",
       "    </tr>\n",
       "  </thead>\n",
       "  <tbody>\n",
       "    <tr>\n",
       "      <th>0</th>\n",
       "      <td>2838</td>\n",
       "      <td>14045</td>\n",
       "      <td>34.4</td>\n",
       "      <td>65</td>\n",
       "      <td>37</td>\n",
       "      <td>155</td>\n",
       "      <td>66.5</td>\n",
       "      <td>42.0</td>\n",
       "      <td>169</td>\n",
       "    </tr>\n",
       "    <tr>\n",
       "      <th>1</th>\n",
       "      <td>2837</td>\n",
       "      <td>8650</td>\n",
       "      <td>45.8</td>\n",
       "      <td>80</td>\n",
       "      <td>65</td>\n",
       "      <td>103</td>\n",
       "      <td>97.8</td>\n",
       "      <td>87.1</td>\n",
       "      <td>128</td>\n",
       "    </tr>\n",
       "    <tr>\n",
       "      <th>2</th>\n",
       "      <td>2836</td>\n",
       "      <td>3059</td>\n",
       "      <td>12.6</td>\n",
       "      <td>122</td>\n",
       "      <td>43</td>\n",
       "      <td>132</td>\n",
       "      <td>104.0</td>\n",
       "      <td>51.4</td>\n",
       "      <td>129</td>\n",
       "    </tr>\n",
       "    <tr>\n",
       "      <th>3</th>\n",
       "      <td>2835</td>\n",
       "      <td>2265</td>\n",
       "      <td>14.3</td>\n",
       "      <td>99</td>\n",
       "      <td>116</td>\n",
       "      <td>162</td>\n",
       "      <td>101.0</td>\n",
       "      <td>108.0</td>\n",
       "      <td>164</td>\n",
       "    </tr>\n",
       "    <tr>\n",
       "      <th>4</th>\n",
       "      <td>2834</td>\n",
       "      <td>1751</td>\n",
       "      <td>12.1</td>\n",
       "      <td>70</td>\n",
       "      <td>98</td>\n",
       "      <td>170</td>\n",
       "      <td>74.2</td>\n",
       "      <td>107.0</td>\n",
       "      <td>165</td>\n",
       "    </tr>\n",
       "  </tbody>\n",
       "</table>\n",
       "</div>"
      ],
      "text/plain": [
       "   Cluster Index  Voxels   MAX  MAX X (vox)  MAX Y (vox)  MAX Z (vox)  \\\n",
       "0           2838   14045  34.4           65           37          155   \n",
       "1           2837    8650  45.8           80           65          103   \n",
       "2           2836    3059  12.6          122           43          132   \n",
       "3           2835    2265  14.3           99          116          162   \n",
       "4           2834    1751  12.1           70           98          170   \n",
       "\n",
       "   COG X (vox)  COG Y (vox)  COG Z (vox)  \n",
       "0         66.5         42.0          169  \n",
       "1         97.8         87.1          128  \n",
       "2        104.0         51.4          129  \n",
       "3        101.0        108.0          164  \n",
       "4         74.2        107.0          165  "
      ]
     },
     "execution_count": 4,
     "metadata": {},
     "output_type": "execute_result"
    }
   ],
   "source": [
    "# load in the cluster information CSV\n",
    "B_RAPP_0100_var_cluster_info = pd.read_csv('/home/ela/Documents/B-RAPIDD/B-RAP_0100/3D-FLAIR/z_score_maps/clusters/intrasubject/variance_affine_no_csf_cluster_info.txt', delimiter='\\t')\n",
    "B_RAPP_0100_var_cluster_info.head()"
   ]
  },
  {
   "cell_type": "code",
   "execution_count": null,
   "metadata": {},
   "outputs": [
    {
     "data": {
      "text/plain": [
       "320"
      ]
     },
     "execution_count": 6,
     "metadata": {},
     "output_type": "execute_result"
    }
   ],
   "source": [
    "# count number of clusters with more than 10 voxels\n",
    "num_clusters = len(B_RAPP_0100_var_cluster_info[B_RAPP_0100_var_cluster_info['Voxels'] >= 10])\n",
    "num_clusters"
   ]
  },
  {
   "cell_type": "code",
   "execution_count": null,
   "metadata": {},
   "outputs": [
    {
     "data": {
      "text/html": [
       "<div>\n",
       "<style scoped>\n",
       "    .dataframe tbody tr th:only-of-type {\n",
       "        vertical-align: middle;\n",
       "    }\n",
       "\n",
       "    .dataframe tbody tr th {\n",
       "        vertical-align: top;\n",
       "    }\n",
       "\n",
       "    .dataframe thead th {\n",
       "        text-align: right;\n",
       "    }\n",
       "</style>\n",
       "<table border=\"1\" class=\"dataframe\">\n",
       "  <thead>\n",
       "    <tr style=\"text-align: right;\">\n",
       "      <th></th>\n",
       "      <th>Cluster Index</th>\n",
       "      <th>Voxels</th>\n",
       "      <th>MAX</th>\n",
       "      <th>MAX X (vox)</th>\n",
       "      <th>MAX Y (vox)</th>\n",
       "      <th>MAX Z (vox)</th>\n",
       "      <th>COG X (vox)</th>\n",
       "      <th>COG Y (vox)</th>\n",
       "      <th>COG Z (vox)</th>\n",
       "    </tr>\n",
       "  </thead>\n",
       "  <tbody>\n",
       "    <tr>\n",
       "      <th>0</th>\n",
       "      <td>2838</td>\n",
       "      <td>14045</td>\n",
       "      <td>34.40</td>\n",
       "      <td>65</td>\n",
       "      <td>37</td>\n",
       "      <td>155</td>\n",
       "      <td>66.5</td>\n",
       "      <td>42.0</td>\n",
       "      <td>169</td>\n",
       "    </tr>\n",
       "    <tr>\n",
       "      <th>1</th>\n",
       "      <td>2837</td>\n",
       "      <td>8650</td>\n",
       "      <td>45.80</td>\n",
       "      <td>80</td>\n",
       "      <td>65</td>\n",
       "      <td>103</td>\n",
       "      <td>97.8</td>\n",
       "      <td>87.1</td>\n",
       "      <td>128</td>\n",
       "    </tr>\n",
       "    <tr>\n",
       "      <th>2</th>\n",
       "      <td>2836</td>\n",
       "      <td>3059</td>\n",
       "      <td>12.60</td>\n",
       "      <td>122</td>\n",
       "      <td>43</td>\n",
       "      <td>132</td>\n",
       "      <td>104.0</td>\n",
       "      <td>51.4</td>\n",
       "      <td>129</td>\n",
       "    </tr>\n",
       "    <tr>\n",
       "      <th>3</th>\n",
       "      <td>2835</td>\n",
       "      <td>2265</td>\n",
       "      <td>14.30</td>\n",
       "      <td>99</td>\n",
       "      <td>116</td>\n",
       "      <td>162</td>\n",
       "      <td>101.0</td>\n",
       "      <td>108.0</td>\n",
       "      <td>164</td>\n",
       "    </tr>\n",
       "    <tr>\n",
       "      <th>4</th>\n",
       "      <td>2834</td>\n",
       "      <td>1751</td>\n",
       "      <td>12.10</td>\n",
       "      <td>70</td>\n",
       "      <td>98</td>\n",
       "      <td>170</td>\n",
       "      <td>74.2</td>\n",
       "      <td>107.0</td>\n",
       "      <td>165</td>\n",
       "    </tr>\n",
       "    <tr>\n",
       "      <th>...</th>\n",
       "      <td>...</td>\n",
       "      <td>...</td>\n",
       "      <td>...</td>\n",
       "      <td>...</td>\n",
       "      <td>...</td>\n",
       "      <td>...</td>\n",
       "      <td>...</td>\n",
       "      <td>...</td>\n",
       "      <td>...</td>\n",
       "    </tr>\n",
       "    <tr>\n",
       "      <th>315</th>\n",
       "      <td>2523</td>\n",
       "      <td>10</td>\n",
       "      <td>3.97</td>\n",
       "      <td>133</td>\n",
       "      <td>103</td>\n",
       "      <td>117</td>\n",
       "      <td>132.0</td>\n",
       "      <td>103.0</td>\n",
       "      <td>117</td>\n",
       "    </tr>\n",
       "    <tr>\n",
       "      <th>316</th>\n",
       "      <td>2522</td>\n",
       "      <td>10</td>\n",
       "      <td>2.66</td>\n",
       "      <td>65</td>\n",
       "      <td>89</td>\n",
       "      <td>146</td>\n",
       "      <td>65.3</td>\n",
       "      <td>89.9</td>\n",
       "      <td>145</td>\n",
       "    </tr>\n",
       "    <tr>\n",
       "      <th>317</th>\n",
       "      <td>2521</td>\n",
       "      <td>10</td>\n",
       "      <td>3.57</td>\n",
       "      <td>112</td>\n",
       "      <td>38</td>\n",
       "      <td>159</td>\n",
       "      <td>112.0</td>\n",
       "      <td>36.5</td>\n",
       "      <td>158</td>\n",
       "    </tr>\n",
       "    <tr>\n",
       "      <th>318</th>\n",
       "      <td>2520</td>\n",
       "      <td>10</td>\n",
       "      <td>4.34</td>\n",
       "      <td>68</td>\n",
       "      <td>64</td>\n",
       "      <td>197</td>\n",
       "      <td>68.1</td>\n",
       "      <td>62.8</td>\n",
       "      <td>198</td>\n",
       "    </tr>\n",
       "    <tr>\n",
       "      <th>319</th>\n",
       "      <td>2519</td>\n",
       "      <td>10</td>\n",
       "      <td>2.36</td>\n",
       "      <td>34</td>\n",
       "      <td>97</td>\n",
       "      <td>196</td>\n",
       "      <td>35.3</td>\n",
       "      <td>94.9</td>\n",
       "      <td>197</td>\n",
       "    </tr>\n",
       "  </tbody>\n",
       "</table>\n",
       "<p>320 rows × 9 columns</p>\n",
       "</div>"
      ],
      "text/plain": [
       "     Cluster Index  Voxels    MAX  MAX X (vox)  MAX Y (vox)  MAX Z (vox)  \\\n",
       "0             2838   14045  34.40           65           37          155   \n",
       "1             2837    8650  45.80           80           65          103   \n",
       "2             2836    3059  12.60          122           43          132   \n",
       "3             2835    2265  14.30           99          116          162   \n",
       "4             2834    1751  12.10           70           98          170   \n",
       "..             ...     ...    ...          ...          ...          ...   \n",
       "315           2523      10   3.97          133          103          117   \n",
       "316           2522      10   2.66           65           89          146   \n",
       "317           2521      10   3.57          112           38          159   \n",
       "318           2520      10   4.34           68           64          197   \n",
       "319           2519      10   2.36           34           97          196   \n",
       "\n",
       "     COG X (vox)  COG Y (vox)  COG Z (vox)  \n",
       "0           66.5         42.0          169  \n",
       "1           97.8         87.1          128  \n",
       "2          104.0         51.4          129  \n",
       "3          101.0        108.0          164  \n",
       "4           74.2        107.0          165  \n",
       "..           ...          ...          ...  \n",
       "315        132.0        103.0          117  \n",
       "316         65.3         89.9          145  \n",
       "317        112.0         36.5          158  \n",
       "318         68.1         62.8          198  \n",
       "319         35.3         94.9          197  \n",
       "\n",
       "[320 rows x 9 columns]"
      ]
     },
     "execution_count": 18,
     "metadata": {},
     "output_type": "execute_result"
    }
   ],
   "source": [
    "# extract the cluster indices for the clusters with more than or equal to 10 voxels\n",
    "big_clusters = B_RAPP_0100_var_cluster_info[B_RAPP_0100_var_cluster_info['Voxels'] >= 10]\n",
    "big_clusters"
   ]
  },
  {
   "cell_type": "code",
   "execution_count": null,
   "metadata": {},
   "outputs": [
    {
     "data": {
      "text/plain": [
       "2838.0"
      ]
     },
     "execution_count": 16,
     "metadata": {},
     "output_type": "execute_result"
    }
   ],
   "source": [
    "# these cluster indices are equal to the intensity values of the cluster in the variance map. Therefore, we want to select the voxels in the variance map that have these intensity values. \n",
    "# this ensures we only retain the biggest clusters.\n",
    "# load in the clustered z-score variance map without csf\n",
    "B_RAPP_0100_var_cluster_map = nib.load('/home/ela/Documents/B-RAPIDD/B-RAP_0100/3D-FLAIR/z_score_maps/clusters/intrasubject/variance_affine_no_csf.nii.gz').get_fdata()\n",
    "# verify the map intensity values to see if it matches the pd dataframe by extracting max value\n",
    "np.max(B_RAPP_0100_var_cluster_map)"
   ]
  },
  {
   "cell_type": "code",
   "execution_count": 30,
   "metadata": {},
   "outputs": [
    {
     "data": {
      "text/plain": [
       "2519"
      ]
     },
     "execution_count": 30,
     "metadata": {},
     "output_type": "execute_result"
    }
   ],
   "source": [
    "np.min(big_clusters['Cluster Index'].tolist()) # this is the threshold of the cluster indices such that the higher indices > 10"
   ]
  },
  {
   "cell_type": "code",
   "execution_count": 36,
   "metadata": {},
   "outputs": [
    {
     "name": "stdout",
     "output_type": "stream",
     "text": [
      "Thresholded cluster map\n"
     ]
    }
   ],
   "source": [
    "# threshold the cluster map\n",
    "thresh = fsl.Threshold()\n",
    "thresh.inputs.in_file = '/home/ela/Documents/B-RAPIDD/B-RAP_0100/3D-FLAIR/z_score_maps/clusters/intrasubject/variance_affine_no_csf.nii.gz'\n",
    "thresh.inputs.thresh = np.min(big_clusters['Cluster Index'].tolist()) \n",
    "thresh.inputs.direction = 'below'\n",
    "thresh.inputs.out_file = '/home/ela/Documents/B-RAPIDD/B-RAP_0100/3D-FLAIR/z_score_maps/clusters/intrasubject/variance_affine_no_csf_thresholded.nii.gz'\n",
    "thresh.run()\n",
    "print('Thresholded cluster map')"
   ]
  },
  {
   "cell_type": "code",
   "execution_count": 37,
   "metadata": {},
   "outputs": [
    {
     "name": "stdout",
     "output_type": "stream",
     "text": [
      "[   0. 2519. 2520. 2521. 2522. 2523. 2524. 2525. 2526. 2527. 2528. 2529.\n",
      " 2530. 2531. 2532. 2533. 2534. 2535. 2536. 2537. 2538. 2539. 2540. 2541.\n",
      " 2542. 2543. 2544. 2545. 2546. 2547. 2548. 2549. 2550. 2551. 2552. 2553.\n",
      " 2554. 2555. 2556. 2557. 2558. 2559. 2560. 2561. 2562. 2563. 2564. 2565.\n",
      " 2566. 2567. 2568. 2569. 2570. 2571. 2572. 2573. 2574. 2575. 2576. 2577.\n",
      " 2578. 2579. 2580. 2581. 2582. 2583. 2584. 2585. 2586. 2587. 2588. 2589.\n",
      " 2590. 2591. 2592. 2593. 2594. 2595. 2596. 2597. 2598. 2599. 2600. 2601.\n",
      " 2602. 2603. 2604. 2605. 2606. 2607. 2608. 2609. 2610. 2611. 2612. 2613.\n",
      " 2614. 2615. 2616. 2617. 2618. 2619. 2620. 2621. 2622. 2623. 2624. 2625.\n",
      " 2626. 2627. 2628. 2629. 2630. 2631. 2632. 2633. 2634. 2635. 2636. 2637.\n",
      " 2638. 2639. 2640. 2641. 2642. 2643. 2644. 2645. 2646. 2647. 2648. 2649.\n",
      " 2650. 2651. 2652. 2653. 2654. 2655. 2656. 2657. 2658. 2659. 2660. 2661.\n",
      " 2662. 2663. 2664. 2665. 2666. 2667. 2668. 2669. 2670. 2671. 2672. 2673.\n",
      " 2674. 2675. 2676. 2677. 2678. 2679. 2680. 2681. 2682. 2683. 2684. 2685.\n",
      " 2686. 2687. 2688. 2689. 2690. 2691. 2692. 2693. 2694. 2695. 2696. 2697.\n",
      " 2698. 2699. 2700. 2701. 2702. 2703. 2704. 2705. 2706. 2707. 2708. 2709.\n",
      " 2710. 2711. 2712. 2713. 2714. 2715. 2716. 2717. 2718. 2719. 2720. 2721.\n",
      " 2722. 2723. 2724. 2725. 2726. 2727. 2728. 2729. 2730. 2731. 2732. 2733.\n",
      " 2734. 2735. 2736. 2737. 2738. 2739. 2740. 2741. 2742. 2743. 2744. 2745.\n",
      " 2746. 2747. 2748. 2749. 2750. 2751. 2752. 2753. 2754. 2755. 2756. 2757.\n",
      " 2758. 2759. 2760. 2761. 2762. 2763. 2764. 2765. 2766. 2767. 2768. 2769.\n",
      " 2770. 2771. 2772. 2773. 2774. 2775. 2776. 2777. 2778. 2779. 2780. 2781.\n",
      " 2782. 2783. 2784. 2785. 2786. 2787. 2788. 2789. 2790. 2791. 2792. 2793.\n",
      " 2794. 2795. 2796. 2797. 2798. 2799. 2800. 2801. 2802. 2803. 2804. 2805.\n",
      " 2806. 2807. 2808. 2809. 2810. 2811. 2812. 2813. 2814. 2815. 2816. 2817.\n",
      " 2818. 2819. 2820. 2821. 2822. 2823. 2824. 2825. 2826. 2827. 2828. 2829.\n",
      " 2830. 2831. 2832. 2833. 2834. 2835. 2836. 2837. 2838.]\n"
     ]
    }
   ],
   "source": [
    "# read in thresholded cluster map and extract unique values for verification\n",
    "B_RAPP_0100_var_cluster_map_thresh = nib.load('/home/ela/Documents/B-RAPIDD/B-RAP_0100/3D-FLAIR/z_score_maps/clusters/intrasubject/variance_affine_no_csf_thresholded.nii.gz').get_fdata()\n",
    "print(np.unique(B_RAPP_0100_var_cluster_map_thresh))"
   ]
  },
  {
   "cell_type": "markdown",
   "metadata": {},
   "source": [
    "It's hard to see these thresholds because they're so close, so randomly allocate a mapping between cluster labels and a random value."
   ]
  },
  {
   "cell_type": "code",
   "execution_count": 57,
   "metadata": {},
   "outputs": [],
   "source": [
    "\"\"\"import random\n",
    "min_intensity = 1\n",
    "max_intensity = 3000\n",
    "\n",
    "# Generate a list of unique random intensity values for each cluster\n",
    "random_intensities = random.sample(range(min_intensity, max_intensity + 1), num_clusters+1)\n",
    "\n",
    "# Now, random_intensities contains unique random values within the specified range for each cluster.\n",
    "label_to_intensity = {label: intensity for label, intensity in zip(np.unique(B_RAPP_0100_var_cluster_map_thresh), random_intensities)}\n",
    "label_to_intensity[0] = 0 # retain 0 value for background\n",
    "\n",
    "# Map cluster labels to random intensities using the dictionary with a default value\n",
    "mapped_image = np.vectorize(label_to_intensity.get, otypes=[int])(B_RAPP_0100_var_cluster_map_thresh)\n",
    "\n",
    "# save the map\n",
    "mapped_var_no_csf_nifti =  nib.Nifti1Image(mapped_image, affine=np.eye(4))\n",
    "out_file = '/home/ela/Documents/B-RAPIDD/B-RAP_0100/3D-FLAIR/z_score_maps/clusters/intrasubject/variance_affine_no_csf_thresholded_mapped.nii.gz'\n",
    "nib.save(mapped_var_no_csf_nifti, out_file)\n",
    "\n",
    "\"\"\"\n",
    "\n",
    "# Sort the unique cluster labels to retain the order\n",
    "unique_labels = np.unique(B_RAPP_0100_var_cluster_map_thresh)\n",
    "max_intensity = np.max(big_clusters['Cluster Index'].tolist())\n",
    "min_intensity = np.min(big_clusters['Cluster Index'].tolist())\n",
    "\n",
    "# Calculate the step size for intensity increments\n",
    "step_size = 20\n",
    "\n",
    "# Create a mapping dictionary based on the sorted labels\n",
    "label_to_intensity = {label: min_intensity + idx * step_size for idx, label in enumerate(unique_labels)}\n",
    "label_to_intensity[0] = 0 # retain 0 value for background\n",
    "\n",
    "# Map cluster labels to intensity values using the dictionary\n",
    "mapped_image = np.vectorize(label_to_intensity.get, otypes=[int])(B_RAPP_0100_var_cluster_map_thresh)\n",
    "\n",
    "# save the map\n",
    "mapped_var_no_csf_nifti =  nib.Nifti1Image(mapped_image, affine=np.eye(4))\n",
    "out_file = '/home/ela/Documents/B-RAPIDD/B-RAP_0100/3D-FLAIR/z_score_maps/clusters/intrasubject/variance_affine_no_csf_thresholded_mapped.nii.gz'\n",
    "nib.save(mapped_var_no_csf_nifti, out_file)"
   ]
  },
  {
   "cell_type": "code",
   "execution_count": null,
   "metadata": {},
   "outputs": [],
   "source": []
  },
  {
   "cell_type": "code",
   "execution_count": 79,
   "metadata": {},
   "outputs": [
    {
     "name": "stdout",
     "output_type": "stream",
     "text": [
      "{0.0: 0, 2519.0: 10, 2520.0: 10, 2521.0: 10, 2522.0: 10, 2523.0: 10, 2524.0: 10, 2525.0: 10, 2526.0: 10, 2527.0: 10, 2528.0: 10, 2529.0: 10, 2530.0: 10, 2531.0: 10, 2532.0: 10, 2533.0: 10, 2534.0: 10, 2535.0: 10, 2536.0: 10, 2537.0: 10, 2538.0: 10, 2539.0: 11, 2540.0: 11, 2541.0: 11, 2542.0: 11, 2543.0: 11, 2544.0: 11, 2545.0: 11, 2546.0: 11, 2547.0: 11, 2548.0: 11, 2549.0: 11, 2550.0: 11, 2551.0: 11, 2552.0: 11, 2553.0: 11, 2554.0: 11, 2555.0: 11, 2556.0: 11, 2557.0: 11, 2558.0: 12, 2559.0: 12, 2560.0: 12, 2561.0: 12, 2562.0: 12, 2563.0: 12, 2564.0: 12, 2565.0: 12, 2566.0: 12, 2567.0: 12, 2568.0: 12, 2569.0: 12, 2570.0: 12, 2571.0: 12, 2572.0: 12, 2573.0: 13, 2574.0: 13, 2575.0: 13, 2576.0: 13, 2577.0: 13, 2578.0: 13, 2579.0: 13, 2580.0: 13, 2581.0: 13, 2582.0: 13, 2583.0: 13, 2584.0: 13, 2585.0: 14, 2586.0: 14, 2587.0: 14, 2588.0: 14, 2589.0: 14, 2590.0: 14, 2591.0: 14, 2592.0: 14, 2593.0: 14, 2594.0: 14, 2595.0: 14, 2596.0: 14, 2597.0: 15, 2598.0: 15, 2599.0: 15, 2600.0: 15, 2601.0: 15, 2602.0: 15, 2603.0: 15, 2604.0: 15, 2605.0: 15, 2606.0: 15, 2607.0: 15, 2608.0: 15, 2609.0: 15, 2610.0: 15, 2611.0: 16, 2612.0: 16, 2613.0: 16, 2614.0: 16, 2615.0: 16, 2616.0: 16, 2617.0: 16, 2618.0: 16, 2619.0: 16, 2620.0: 17, 2621.0: 17, 2622.0: 17, 2623.0: 17, 2624.0: 17, 2625.0: 17, 2626.0: 17, 2627.0: 18, 2628.0: 18, 2629.0: 18, 2630.0: 18, 2631.0: 18, 2632.0: 18, 2633.0: 18, 2634.0: 18, 2635.0: 18, 2636.0: 18, 2637.0: 18, 2638.0: 18, 2639.0: 18, 2640.0: 19, 2641.0: 19, 2642.0: 19, 2643.0: 19, 2644.0: 19, 2645.0: 19, 2646.0: 19, 2647.0: 19, 2648.0: 19, 2649.0: 20, 2650.0: 20, 2651.0: 20, 2652.0: 20, 2653.0: 20, 2654.0: 20, 2655.0: 20, 2656.0: 20, 2657.0: 20, 2658.0: 20, 2659.0: 20, 2660.0: 21, 2661.0: 21, 2662.0: 21, 2663.0: 21, 2664.0: 21, 2665.0: 22, 2666.0: 22, 2667.0: 22, 2668.0: 22, 2669.0: 22, 2670.0: 23, 2671.0: 23, 2672.0: 23, 2673.0: 23, 2674.0: 23, 2675.0: 23, 2676.0: 23, 2677.0: 24, 2678.0: 24, 2679.0: 24, 2680.0: 24, 2681.0: 25, 2682.0: 25, 2683.0: 25, 2684.0: 25, 2685.0: 25, 2686.0: 25, 2687.0: 25, 2688.0: 26, 2689.0: 26, 2690.0: 26, 2691.0: 26, 2692.0: 26, 2693.0: 26, 2694.0: 27, 2695.0: 27, 2696.0: 27, 2697.0: 28, 2698.0: 28, 2699.0: 29, 2700.0: 29, 2701.0: 30, 2702.0: 30, 2703.0: 30, 2704.0: 30, 2705.0: 30, 2706.0: 31, 2707.0: 31, 2708.0: 31, 2709.0: 32, 2710.0: 32, 2711.0: 32, 2712.0: 32, 2713.0: 33, 2714.0: 33, 2715.0: 34, 2716.0: 34, 2717.0: 34, 2718.0: 35, 2719.0: 35, 2720.0: 36, 2721.0: 36, 2722.0: 36, 2723.0: 37, 2724.0: 39, 2725.0: 40, 2726.0: 40, 2727.0: 40, 2728.0: 40, 2729.0: 40, 2730.0: 41, 2731.0: 41, 2732.0: 41, 2733.0: 41, 2734.0: 41, 2735.0: 43, 2736.0: 44, 2737.0: 45, 2738.0: 45, 2739.0: 45, 2740.0: 46, 2741.0: 46, 2742.0: 50, 2743.0: 51, 2744.0: 51, 2745.0: 52, 2746.0: 52, 2747.0: 52, 2748.0: 53, 2749.0: 54, 2750.0: 54, 2751.0: 55, 2752.0: 56, 2753.0: 56, 2754.0: 57, 2755.0: 57, 2756.0: 58, 2757.0: 59, 2758.0: 59, 2759.0: 60, 2760.0: 60, 2761.0: 60, 2762.0: 61, 2763.0: 63, 2764.0: 63, 2765.0: 65, 2766.0: 65, 2767.0: 66, 2768.0: 66, 2769.0: 67, 2770.0: 68, 2771.0: 69, 2772.0: 71, 2773.0: 74, 2774.0: 75, 2775.0: 75, 2776.0: 75, 2777.0: 76, 2778.0: 77, 2779.0: 77, 2780.0: 78, 2781.0: 79, 2782.0: 79, 2783.0: 79, 2784.0: 80, 2785.0: 81, 2786.0: 84, 2787.0: 84, 2788.0: 87, 2789.0: 90, 2790.0: 91, 2791.0: 93, 2792.0: 94, 2793.0: 94, 2794.0: 95, 2795.0: 102, 2796.0: 105, 2797.0: 106, 2798.0: 107, 2799.0: 108, 2800.0: 110, 2801.0: 113, 2802.0: 117, 2803.0: 120, 2804.0: 120, 2805.0: 122, 2806.0: 123, 2807.0: 124, 2808.0: 127, 2809.0: 128, 2810.0: 129, 2811.0: 134, 2812.0: 139, 2813.0: 140, 2814.0: 149, 2815.0: 153, 2816.0: 172, 2817.0: 180, 2818.0: 186, 2819.0: 196, 2820.0: 198, 2821.0: 211, 2822.0: 273, 2823.0: 359, 2824.0: 360, 2825.0: 417, 2826.0: 440, 2827.0: 590, 2828.0: 657, 2829.0: 938, 2830.0: 1021, 2831.0: 1103, 2832.0: 1142, 2833.0: 1426, 2834.0: 1751, 2835.0: 2265, 2836.0: 3059, 2837.0: 8650, 2838.0: 14045}\n"
     ]
    }
   ],
   "source": [
    "# visualise by cluster size\n",
    "\n",
    "unique_labels = np.unique(B_RAPP_0100_var_cluster_map_thresh)\n",
    "\n",
    "voxel_size = big_clusters['Voxels'].tolist()\n",
    "voxel_size.reverse()\n",
    "voxel_size.insert(0, 0) # for background\n",
    "\n",
    "# extract voxels from big clusters\n",
    "\n",
    "value_to_intensity = {original:vox_size for original, vox_size in zip(unique_labels, voxel_size)}\n",
    "print(value_to_intensity)\n",
    "\n",
    "# Map cluster labels to intensity values using the dictionary\n",
    "vox_mapped_image = np.vectorize(value_to_intensity.get, otypes=[int])(B_RAPP_0100_var_cluster_map_thresh)\n",
    "\n",
    "# save the map\n",
    "mapped_vox_size_var_no_csf_nifti =  nib.Nifti1Image(vox_mapped_image, affine=np.eye(4))\n",
    "out_file = '/home/ela/Documents/B-RAPIDD/B-RAP_0100/3D-FLAIR/z_score_maps/clusters/intrasubject/variance_affine_no_csf_thresholded_vox_size.nii.gz'\n",
    "nib.save(mapped_vox_size_var_no_csf_nifti, out_file)"
   ]
  },
  {
   "cell_type": "code",
   "execution_count": 81,
   "metadata": {},
   "outputs": [
    {
     "name": "stdout",
     "output_type": "stream",
     "text": [
      "(176, 232, 256)\n"
     ]
    }
   ],
   "source": [
    "# look at csf ARIA maps\n",
    "csf_mask = nib.load('/home/ela/Documents/B-RAPIDD/B-RAP_0100/3D-FLAIR/registered_T1/B-RAP_0100_01_E1_CSF_mask.nii.gz').get_fdata()\n",
    "variance_map = nib.load('/home/ela/Documents/B-RAPIDD/B-RAP_0100/3D-FLAIR/variance_maps/affine/intrasubnormalised_all_timepoints.nii.gz').get_fdata()\n",
    "out_file = '/home/ela/Documents/B-RAPIDD/B-RAP_0100/3D-FLAIR/variance_maps/affine/no_csf/intrasubnormalised_all_timepoints_csf_only.nii.gz'\n",
    "\n",
    "\n",
    "variance_map_only_csf = np.multiply(variance_map,csf_mask) # element-wise multiplication\n",
    "\n",
    "print(variance_map_only_csf.shape)\n",
    "\n",
    "# save the map\n",
    "var_only_csf_nifti =  nib.Nifti1Image(variance_map_only_csf, affine=np.eye(4))\n",
    "nib.save(var_only_csf_nifti, out_file)"
   ]
  },
  {
   "cell_type": "code",
   "execution_count": 82,
   "metadata": {},
   "outputs": [
    {
     "data": {
      "text/html": [
       "<div>\n",
       "<style scoped>\n",
       "    .dataframe tbody tr th:only-of-type {\n",
       "        vertical-align: middle;\n",
       "    }\n",
       "\n",
       "    .dataframe tbody tr th {\n",
       "        vertical-align: top;\n",
       "    }\n",
       "\n",
       "    .dataframe thead th {\n",
       "        text-align: right;\n",
       "    }\n",
       "</style>\n",
       "<table border=\"1\" class=\"dataframe\">\n",
       "  <thead>\n",
       "    <tr style=\"text-align: right;\">\n",
       "      <th></th>\n",
       "      <th>Cluster Index</th>\n",
       "      <th>Voxels</th>\n",
       "      <th>MAX</th>\n",
       "      <th>MAX X (vox)</th>\n",
       "      <th>MAX Y (vox)</th>\n",
       "      <th>MAX Z (vox)</th>\n",
       "      <th>COG X (vox)</th>\n",
       "      <th>COG Y (vox)</th>\n",
       "      <th>COG Z (vox)</th>\n",
       "    </tr>\n",
       "  </thead>\n",
       "  <tbody>\n",
       "    <tr>\n",
       "      <th>0</th>\n",
       "      <td>2153</td>\n",
       "      <td>19315</td>\n",
       "      <td>59.70</td>\n",
       "      <td>89</td>\n",
       "      <td>66</td>\n",
       "      <td>101</td>\n",
       "      <td>91.2</td>\n",
       "      <td>89.6</td>\n",
       "      <td>120</td>\n",
       "    </tr>\n",
       "    <tr>\n",
       "      <th>1</th>\n",
       "      <td>2152</td>\n",
       "      <td>2894</td>\n",
       "      <td>27.90</td>\n",
       "      <td>59</td>\n",
       "      <td>39</td>\n",
       "      <td>178</td>\n",
       "      <td>66.4</td>\n",
       "      <td>35.1</td>\n",
       "      <td>178</td>\n",
       "    </tr>\n",
       "    <tr>\n",
       "      <th>2</th>\n",
       "      <td>2151</td>\n",
       "      <td>2475</td>\n",
       "      <td>5.72</td>\n",
       "      <td>134</td>\n",
       "      <td>118</td>\n",
       "      <td>193</td>\n",
       "      <td>121.0</td>\n",
       "      <td>137.0</td>\n",
       "      <td>186</td>\n",
       "    </tr>\n",
       "    <tr>\n",
       "      <th>3</th>\n",
       "      <td>2150</td>\n",
       "      <td>2470</td>\n",
       "      <td>33.10</td>\n",
       "      <td>66</td>\n",
       "      <td>39</td>\n",
       "      <td>158</td>\n",
       "      <td>63.3</td>\n",
       "      <td>55.6</td>\n",
       "      <td>163</td>\n",
       "    </tr>\n",
       "    <tr>\n",
       "      <th>4</th>\n",
       "      <td>2149</td>\n",
       "      <td>1797</td>\n",
       "      <td>5.60</td>\n",
       "      <td>117</td>\n",
       "      <td>115</td>\n",
       "      <td>209</td>\n",
       "      <td>105.0</td>\n",
       "      <td>119.0</td>\n",
       "      <td>207</td>\n",
       "    </tr>\n",
       "  </tbody>\n",
       "</table>\n",
       "</div>"
      ],
      "text/plain": [
       "   Cluster Index  Voxels    MAX  MAX X (vox)  MAX Y (vox)  MAX Z (vox)  \\\n",
       "0           2153   19315  59.70           89           66          101   \n",
       "1           2152    2894  27.90           59           39          178   \n",
       "2           2151    2475   5.72          134          118          193   \n",
       "3           2150    2470  33.10           66           39          158   \n",
       "4           2149    1797   5.60          117          115          209   \n",
       "\n",
       "   COG X (vox)  COG Y (vox)  COG Z (vox)  \n",
       "0         91.2         89.6          120  \n",
       "1         66.4         35.1          178  \n",
       "2        121.0        137.0          186  \n",
       "3         63.3         55.6          163  \n",
       "4        105.0        119.0          207  "
      ]
     },
     "execution_count": 82,
     "metadata": {},
     "output_type": "execute_result"
    }
   ],
   "source": [
    "# load in the cluster information CSV\n",
    "B_RAPP_0100_var_cluster_info = pd.read_csv('/home/ela/Documents/B-RAPIDD/B-RAP_0100/3D-FLAIR/z_score_maps/clusters/intrasubject/variance_affine_csf_cluster_info.txt', delimiter='\\t')\n",
    "B_RAPP_0100_var_cluster_info.head()"
   ]
  },
  {
   "cell_type": "markdown",
   "metadata": {},
   "source": []
  },
  {
   "cell_type": "code",
   "execution_count": 85,
   "metadata": {},
   "outputs": [
    {
     "name": "stdout",
     "output_type": "stream",
     "text": [
      "Thresholded cluster map\n",
      "{0.0: 0, 1901.0: 10, 1902.0: 10, 1903.0: 10, 1904.0: 10, 1905.0: 10, 1906.0: 10, 1907.0: 10, 1908.0: 10, 1909.0: 10, 1910.0: 10, 1911.0: 10, 1912.0: 10, 1913.0: 10, 1914.0: 10, 1915.0: 10, 1916.0: 10, 1917.0: 10, 1918.0: 10, 1919.0: 10, 1920.0: 11, 1921.0: 11, 1922.0: 11, 1923.0: 11, 1924.0: 11, 1925.0: 11, 1926.0: 11, 1927.0: 11, 1928.0: 11, 1929.0: 11, 1930.0: 11, 1931.0: 12, 1932.0: 12, 1933.0: 12, 1934.0: 12, 1935.0: 12, 1936.0: 12, 1937.0: 12, 1938.0: 12, 1939.0: 12, 1940.0: 12, 1941.0: 12, 1942.0: 12, 1943.0: 12, 1944.0: 12, 1945.0: 13, 1946.0: 13, 1947.0: 13, 1948.0: 13, 1949.0: 13, 1950.0: 13, 1951.0: 13, 1952.0: 13, 1953.0: 13, 1954.0: 13, 1955.0: 13, 1956.0: 14, 1957.0: 14, 1958.0: 14, 1959.0: 14, 1960.0: 14, 1961.0: 14, 1962.0: 14, 1963.0: 14, 1964.0: 15, 1965.0: 15, 1966.0: 15, 1967.0: 15, 1968.0: 15, 1969.0: 15, 1970.0: 15, 1971.0: 16, 1972.0: 16, 1973.0: 16, 1974.0: 16, 1975.0: 17, 1976.0: 17, 1977.0: 17, 1978.0: 17, 1979.0: 18, 1980.0: 18, 1981.0: 18, 1982.0: 18, 1983.0: 18, 1984.0: 18, 1985.0: 18, 1986.0: 18, 1987.0: 18, 1988.0: 19, 1989.0: 19, 1990.0: 19, 1991.0: 19, 1992.0: 19, 1993.0: 19, 1994.0: 20, 1995.0: 20, 1996.0: 21, 1997.0: 22, 1998.0: 22, 1999.0: 23, 2000.0: 23, 2001.0: 24, 2002.0: 24, 2003.0: 24, 2004.0: 25, 2005.0: 25, 2006.0: 25, 2007.0: 25, 2008.0: 25, 2009.0: 25, 2010.0: 25, 2011.0: 25, 2012.0: 26, 2013.0: 26, 2014.0: 26, 2015.0: 27, 2016.0: 27, 2017.0: 28, 2018.0: 28, 2019.0: 28, 2020.0: 28, 2021.0: 29, 2022.0: 29, 2023.0: 29, 2024.0: 29, 2025.0: 30, 2026.0: 30, 2027.0: 30, 2028.0: 31, 2029.0: 31, 2030.0: 32, 2031.0: 32, 2032.0: 32, 2033.0: 32, 2034.0: 33, 2035.0: 33, 2036.0: 36, 2037.0: 36, 2038.0: 37, 2039.0: 37, 2040.0: 37, 2041.0: 37, 2042.0: 37, 2043.0: 38, 2044.0: 38, 2045.0: 38, 2046.0: 38, 2047.0: 39, 2048.0: 39, 2049.0: 40, 2050.0: 41, 2051.0: 42, 2052.0: 42, 2053.0: 42, 2054.0: 42, 2055.0: 43, 2056.0: 44, 2057.0: 44, 2058.0: 45, 2059.0: 45, 2060.0: 45, 2061.0: 45, 2062.0: 46, 2063.0: 47, 2064.0: 48, 2065.0: 48, 2066.0: 49, 2067.0: 50, 2068.0: 53, 2069.0: 53, 2070.0: 54, 2071.0: 57, 2072.0: 57, 2073.0: 58, 2074.0: 59, 2075.0: 59, 2076.0: 63, 2077.0: 64, 2078.0: 69, 2079.0: 72, 2080.0: 74, 2081.0: 74, 2082.0: 75, 2083.0: 75, 2084.0: 75, 2085.0: 76, 2086.0: 76, 2087.0: 77, 2088.0: 78, 2089.0: 78, 2090.0: 80, 2091.0: 84, 2092.0: 84, 2093.0: 85, 2094.0: 85, 2095.0: 85, 2096.0: 86, 2097.0: 88, 2098.0: 88, 2099.0: 89, 2100.0: 90, 2101.0: 93, 2102.0: 98, 2103.0: 102, 2104.0: 105, 2105.0: 106, 2106.0: 106, 2107.0: 109, 2108.0: 111, 2109.0: 115, 2110.0: 116, 2111.0: 120, 2112.0: 134, 2113.0: 135, 2114.0: 138, 2115.0: 140, 2116.0: 151, 2117.0: 161, 2118.0: 173, 2119.0: 179, 2120.0: 183, 2121.0: 184, 2122.0: 189, 2123.0: 196, 2124.0: 197, 2125.0: 216, 2126.0: 224, 2127.0: 226, 2128.0: 230, 2129.0: 233, 2130.0: 253, 2131.0: 259, 2132.0: 267, 2133.0: 276, 2134.0: 283, 2135.0: 302, 2136.0: 315, 2137.0: 316, 2138.0: 331, 2139.0: 362, 2140.0: 368, 2141.0: 377, 2142.0: 451, 2143.0: 463, 2144.0: 559, 2145.0: 768, 2146.0: 1017, 2147.0: 1214, 2148.0: 1641, 2149.0: 1797, 2150.0: 2470, 2151.0: 2475, 2152.0: 2894, 2153.0: 19315}\n"
     ]
    }
   ],
   "source": [
    "# count number of clusters with more than 10 voxels\n",
    "num_clusters = len(B_RAPP_0100_var_cluster_info[B_RAPP_0100_var_cluster_info['Voxels'] >= 10])\n",
    "\n",
    "# extract the cluster indices for the clusters with more than or equal to 10 voxels\n",
    "big_clusters = B_RAPP_0100_var_cluster_info[B_RAPP_0100_var_cluster_info['Voxels'] >= 10]\n",
    "\n",
    "# these cluster indices are equal to the intensity values of the cluster in the variance map. Therefore, we want to select the voxels in the variance map that have these intensity values. \n",
    "# this ensures we only retain the biggest clusters.\n",
    "# load in the clustered z-score variance map without csf\n",
    "B_RAPP_0100_var_cluster_map = nib.load('/home/ela/Documents/B-RAPIDD/B-RAP_0100/3D-FLAIR/z_score_maps/clusters/intrasubject/variance_affine_no_csf.nii.gz').get_fdata()\n",
    "# verify the map intensity values to see if it matches the pd dataframe by extracting max value\n",
    "np.max(B_RAPP_0100_var_cluster_map)\n",
    "\n",
    "# threshold the cluster map\n",
    "thresh = fsl.Threshold()\n",
    "thresh.inputs.in_file = '/home/ela/Documents/B-RAPIDD/B-RAP_0100/3D-FLAIR/z_score_maps/clusters/intrasubject/variance_affine_csf.nii.gz'\n",
    "thresh.inputs.thresh = np.min(big_clusters['Cluster Index'].tolist()) \n",
    "thresh.inputs.direction = 'below'\n",
    "thresh.inputs.out_file = '/home/ela/Documents/B-RAPIDD/B-RAP_0100/3D-FLAIR/z_score_maps/clusters/intrasubject/variance_affine_csf_thresholded.nii.gz'\n",
    "thresh.run()\n",
    "print('Thresholded cluster map')\n",
    "\n",
    "# visualise by cluster size\n",
    "\n",
    "# read in thresholded cluster map and extract unique values for verification\n",
    "B_RAPP_0100_var_cluster_map_thresh = nib.load('/home/ela/Documents/B-RAPIDD/B-RAP_0100/3D-FLAIR/z_score_maps/clusters/intrasubject/variance_affine_csf_thresholded.nii.gz').get_fdata()\n",
    "\n",
    "unique_labels = np.unique(B_RAPP_0100_var_cluster_map_thresh)\n",
    "\n",
    "voxel_size = big_clusters['Voxels'].tolist()\n",
    "voxel_size.reverse()\n",
    "voxel_size.insert(0, 0) # for background\n",
    "\n",
    "# extract voxels from big clusters\n",
    "\n",
    "value_to_intensity = {original:vox_size for original, vox_size in zip(unique_labels, voxel_size)}\n",
    "print(value_to_intensity)\n",
    "\n",
    "# Map cluster labels to intensity values using the dictionary\n",
    "vox_mapped_image = np.vectorize(value_to_intensity.get, otypes=[int])(B_RAPP_0100_var_cluster_map_thresh)\n",
    "\n",
    "# save the map\n",
    "mapped_vox_size_var_no_csf_nifti =  nib.Nifti1Image(vox_mapped_image, affine=np.eye(4))\n",
    "out_file = '/home/ela/Documents/B-RAPIDD/B-RAP_0100/3D-FLAIR/z_score_maps/clusters/intrasubject/variance_affine_csf_thresholded_vox_size.nii.gz'\n",
    "nib.save(mapped_vox_size_var_no_csf_nifti, out_file)"
   ]
  },
  {
   "cell_type": "code",
   "execution_count": null,
   "metadata": {},
   "outputs": [],
   "source": []
  }
 ],
 "metadata": {
  "kernelspec": {
   "display_name": "Python 3",
   "language": "python",
   "name": "python3"
  },
  "language_info": {
   "codemirror_mode": {
    "name": "ipython",
    "version": 3
   },
   "file_extension": ".py",
   "mimetype": "text/x-python",
   "name": "python",
   "nbconvert_exporter": "python",
   "pygments_lexer": "ipython3",
   "version": "3.11.4"
  },
  "orig_nbformat": 4
 },
 "nbformat": 4,
 "nbformat_minor": 2
}
